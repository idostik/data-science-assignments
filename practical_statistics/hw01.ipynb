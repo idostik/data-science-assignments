{
 "cells": [
  {
   "cell_type": "code",
   "execution_count": 2,
   "id": "dfed590d-bcfc-41ea-8e76-a5bc47e539f0",
   "metadata": {
    "tags": [],
    "vscode": {
     "languageId": "r"
    }
   },
   "outputs": [
    {
     "name": "stderr",
     "output_type": "stream",
     "text": [
      "Loading required package: kableExtra\n",
      "\n"
     ]
    }
   ],
   "source": [
    "#.libPaths(\"~/R/prs-libs\")\n",
    ".libPaths(\"/home/daniel/R/x86_64-pc-linux-gnu-library/4.2\")\n",
    "library(eurostat)\n",
    "library(vtable)\n",
    "library(ggplot2)\n",
    "library(cowplot)\n",
    "library(moments)"
   ]
  },
  {
   "cell_type": "markdown",
   "id": "34f50ca5-9813-43ad-875b-825c56b6bb73",
   "metadata": {},
   "source": [
    "#### Příprava dat"
   ]
  },
  {
   "cell_type": "markdown",
   "id": "4fe6f94e",
   "metadata": {},
   "source": [
    "Aplikujeme vzorec, který je uveden na courses"
   ]
  },
  {
   "cell_type": "code",
   "execution_count": 3,
   "id": "0deb05af-fb37-47da-88cc-e0c9e938c5b9",
   "metadata": {
    "vscode": {
     "languageId": "r"
    }
   },
   "outputs": [
    {
     "data": {
      "text/html": [
       "4"
      ],
      "text/latex": [
       "4"
      ],
      "text/markdown": [
       "4"
      ],
      "text/plain": [
       "[1] 4"
      ]
     },
     "metadata": {},
     "output_type": "display_data"
    }
   ],
   "source": [
    "K = 17\n",
    "L = nchar(\"Dostal\")\n",
    "M = (( (K+L)*47 ) %% 11 ) + 1\n",
    "M"
   ]
  },
  {
   "cell_type": "markdown",
   "id": "f331ba1d-d4fa-481c-9280-a29474a89533",
   "metadata": {},
   "source": [
    "Ze vzorce vyšlo a číslo 4 a to odpovídá Bulharsku. Stáhneme si zadaný eurostat dataset."
   ]
  },
  {
   "cell_type": "code",
   "execution_count": 4,
   "id": "4e608c2d-3dd9-4a65-b6fd-006470ce8004",
   "metadata": {
    "vscode": {
     "languageId": "r"
    }
   },
   "outputs": [
    {
     "data": {
      "text/html": [
       "<table class=\"dataframe\">\n",
       "<caption>A tibble: 6 × 6</caption>\n",
       "<thead>\n",
       "\t<tr><th scope=col>unit</th><th scope=col>sex</th><th scope=col>age</th><th scope=col>geo</th><th scope=col>time</th><th scope=col>values</th></tr>\n",
       "\t<tr><th scope=col>&lt;chr&gt;</th><th scope=col>&lt;chr&gt;</th><th scope=col>&lt;chr&gt;</th><th scope=col>&lt;chr&gt;</th><th scope=col>&lt;date&gt;</th><th scope=col>&lt;dbl&gt;</th></tr>\n",
       "</thead>\n",
       "<tbody>\n",
       "\t<tr><td>NR</td><td>F</td><td>TOTAL</td><td>AT   </td><td>2022-01-01</td><td>4553444</td></tr>\n",
       "\t<tr><td>NR</td><td>F</td><td>TOTAL</td><td>AT1  </td><td>2022-01-01</td><td>2000081</td></tr>\n",
       "\t<tr><td>NR</td><td>F</td><td>TOTAL</td><td>AT11 </td><td>2022-01-01</td><td> 151557</td></tr>\n",
       "\t<tr><td>NR</td><td>F</td><td>TOTAL</td><td>AT111</td><td>2022-01-01</td><td>  19074</td></tr>\n",
       "\t<tr><td>NR</td><td>F</td><td>TOTAL</td><td>AT112</td><td>2022-01-01</td><td>  83093</td></tr>\n",
       "\t<tr><td>NR</td><td>F</td><td>TOTAL</td><td>AT113</td><td>2022-01-01</td><td>  49390</td></tr>\n",
       "</tbody>\n",
       "</table>\n"
      ],
      "text/latex": [
       "A tibble: 6 × 6\n",
       "\\begin{tabular}{llllll}\n",
       " unit & sex & age & geo & time & values\\\\\n",
       " <chr> & <chr> & <chr> & <chr> & <date> & <dbl>\\\\\n",
       "\\hline\n",
       "\t NR & F & TOTAL & AT    & 2022-01-01 & 4553444\\\\\n",
       "\t NR & F & TOTAL & AT1   & 2022-01-01 & 2000081\\\\\n",
       "\t NR & F & TOTAL & AT11  & 2022-01-01 &  151557\\\\\n",
       "\t NR & F & TOTAL & AT111 & 2022-01-01 &   19074\\\\\n",
       "\t NR & F & TOTAL & AT112 & 2022-01-01 &   83093\\\\\n",
       "\t NR & F & TOTAL & AT113 & 2022-01-01 &   49390\\\\\n",
       "\\end{tabular}\n"
      ],
      "text/markdown": [
       "\n",
       "A tibble: 6 × 6\n",
       "\n",
       "| unit &lt;chr&gt; | sex &lt;chr&gt; | age &lt;chr&gt; | geo &lt;chr&gt; | time &lt;date&gt; | values &lt;dbl&gt; |\n",
       "|---|---|---|---|---|---|\n",
       "| NR | F | TOTAL | AT    | 2022-01-01 | 4553444 |\n",
       "| NR | F | TOTAL | AT1   | 2022-01-01 | 2000081 |\n",
       "| NR | F | TOTAL | AT11  | 2022-01-01 |  151557 |\n",
       "| NR | F | TOTAL | AT111 | 2022-01-01 |   19074 |\n",
       "| NR | F | TOTAL | AT112 | 2022-01-01 |   83093 |\n",
       "| NR | F | TOTAL | AT113 | 2022-01-01 |   49390 |\n",
       "\n"
      ],
      "text/plain": [
       "  unit sex age   geo   time       values \n",
       "1 NR   F   TOTAL AT    2022-01-01 4553444\n",
       "2 NR   F   TOTAL AT1   2022-01-01 2000081\n",
       "3 NR   F   TOTAL AT11  2022-01-01  151557\n",
       "4 NR   F   TOTAL AT111 2022-01-01   19074\n",
       "5 NR   F   TOTAL AT112 2022-01-01   83093\n",
       "6 NR   F   TOTAL AT113 2022-01-01   49390"
      ]
     },
     "metadata": {},
     "output_type": "display_data"
    }
   ],
   "source": [
    "data_id = \"demo_r_pjanaggr3\"\n",
    "df <- get_eurostat(id=data_id)\n",
    "head(df)"
   ]
  },
  {
   "cell_type": "markdown",
   "id": "2ba71972-6043-4c6a-a70e-6a46692a619e",
   "metadata": {},
   "source": [
    "Z datasetu vybereme pouze záznamy z Bulharska a roku 2021 týkajících se zvlášť mužů a žen."
   ]
  },
  {
   "cell_type": "code",
   "execution_count": 5,
   "id": "c8192e52-a33c-4893-9ac8-dabdf27c71f5",
   "metadata": {
    "vscode": {
     "languageId": "r"
    }
   },
   "outputs": [],
   "source": [
    "#get data from bulgaria and year 2021\n",
    "df = df[substr(df$geo, 1, 2) == \"BG\" & df$time == \"2021-01-01\" & df$sex!=\"T\",]"
   ]
  },
  {
   "cell_type": "markdown",
   "id": "219a6a64-5be1-46b2-a260-087f1b9e76c7",
   "metadata": {},
   "source": [
    "Sloupce pohlaví a věk převedeme na faktory a z datasetu odebereme ostatní nepotřebné sloupce. Navíc, si přejmenujeme sloupec *values* na *population*."
   ]
  },
  {
   "cell_type": "code",
   "execution_count": 6,
   "id": "6c06e19e-9e85-4607-941e-b2cec0eedac9",
   "metadata": {
    "vscode": {
     "languageId": "r"
    }
   },
   "outputs": [],
   "source": [
    "#transform to factors and remove unnecessary columns\n",
    "df$sex = as.factor(df$sex)\n",
    "df$age = as.factor(df$age)\n",
    "df = df[c(\"sex\", \"age\", \"geo\", \"values\")]\n",
    "colnames(df) <- c(\"sex\", \"age\", \"geo\", \"population\")"
   ]
  },
  {
   "cell_type": "markdown",
   "id": "e9a8743d",
   "metadata": {},
   "source": [
    "Vypíšeme aktuální stav datasetu *df*"
   ]
  },
  {
   "cell_type": "code",
   "execution_count": 7,
   "id": "51f794a7-4d8a-43dc-9339-9415f730623a",
   "metadata": {
    "vscode": {
     "languageId": "r"
    }
   },
   "outputs": [
    {
     "data": {
      "text/html": [
       "<span style=white-space:pre-wrap>'Number of rows:  370'</span>"
      ],
      "text/latex": [
       "'Number of rows:  370'"
      ],
      "text/markdown": [
       "<span style=white-space:pre-wrap>'Number of rows:  370'</span>"
      ],
      "text/plain": [
       "[1] \"Number of rows:  370\""
      ]
     },
     "metadata": {},
     "output_type": "display_data"
    },
    {
     "data": {
      "text/plain": [
       " sex         age         geo              population     \n",
       " F:185   TOTAL :74   Length:370         Min.   :      0  \n",
       " M:185   UNK   :74   Class :character   1st Qu.:   8433  \n",
       "         Y_GE65:74   Mode  :character   Median :  35480  \n",
       "         Y_LT15:74                      Mean   : 149547  \n",
       "         Y15-64:74                      3rd Qu.: 100535  \n",
       "                                        Max.   :3566833  "
      ]
     },
     "metadata": {},
     "output_type": "display_data"
    }
   ],
   "source": [
    "paste(\"Number of rows: \", nrow(df))\n",
    "summary(df)"
   ]
  },
  {
   "cell_type": "markdown",
   "id": "8bfb6d8e-9a96-4ee6-8bd8-86e9a0167960",
   "metadata": {},
   "source": [
    "Ve sloupci *age* se vyskytuje hodnota *UNK* značící neznámý věk. Podíváme se, jestli se v datasetu vyskytují nějaké záznamy s neznámým věkem (jestli je někde v řádku s *UNK* nenulový počet obyvatel)."
   ]
  },
  {
   "cell_type": "code",
   "execution_count": 8,
   "id": "28d5cfd8-beae-466b-8902-94d5a3d37c32",
   "metadata": {
    "vscode": {
     "languageId": "r"
    }
   },
   "outputs": [
    {
     "data": {
      "text/html": [
       "<span style=white-space:pre-wrap>'Number of regions with unknown age:  0'</span>"
      ],
      "text/latex": [
       "'Number of regions with unknown age:  0'"
      ],
      "text/markdown": [
       "<span style=white-space:pre-wrap>'Number of regions with unknown age:  0'</span>"
      ],
      "text/plain": [
       "[1] \"Number of regions with unknown age:  0\""
      ]
     },
     "metadata": {},
     "output_type": "display_data"
    }
   ],
   "source": [
    "unknown = subset(df, age == \"UNK\" & population != 0)\n",
    "paste(\"Number of regions with unknown age: \", nrow(unknown))"
   ]
  },
  {
   "cell_type": "markdown",
   "id": "54022136-3b63-44eb-927d-e2dee41b1c00",
   "metadata": {},
   "source": [
    "Věk je všude známý a záznamy s hodnotou *UKN* jsou proto zbytečné a nepřidávají nám žádné další informace. Tyto řádky z datasetu odstraníme. Následně aktualizujeme *age* faktor. "
   ]
  },
  {
   "cell_type": "code",
   "execution_count": 9,
   "id": "65c2b476-289b-44cf-94b3-8cb50e0c2c15",
   "metadata": {
    "vscode": {
     "languageId": "r"
    }
   },
   "outputs": [],
   "source": [
    "df = subset(df, age != \"UNK\")\n",
    "#update factor\n",
    "df$age = factor(df$age)"
   ]
  },
  {
   "cell_type": "markdown",
   "id": "7c278789-f34f-403a-9e15-82966cc5df46",
   "metadata": {},
   "source": [
    "### Úloha 1"
   ]
  },
  {
   "cell_type": "code",
   "execution_count": 10,
   "id": "996cf14b-4c59-4fac-9eb7-e998201f6718",
   "metadata": {
    "vscode": {
     "languageId": "r"
    }
   },
   "outputs": [
    {
     "data": {
      "text/html": [
       "<span style=white-space:pre-wrap>'Number of rows:  296'</span>"
      ],
      "text/latex": [
       "'Number of rows:  296'"
      ],
      "text/markdown": [
       "<span style=white-space:pre-wrap>'Number of rows:  296'</span>"
      ],
      "text/plain": [
       "[1] \"Number of rows:  296\""
      ]
     },
     "metadata": {},
     "output_type": "display_data"
    },
    {
     "data": {
      "text/plain": [
       " sex         age         geo              population     \n",
       " F:148   TOTAL :74   Length:296         Min.   :   4746  \n",
       " M:148   Y_GE65:74   Class :character   1st Qu.:  21036  \n",
       "         Y_LT15:74   Mode  :character   Median :  54762  \n",
       "         Y15-64:74                      Mean   : 186934  \n",
       "                                        3rd Qu.: 131326  \n",
       "                                        Max.   :3566833  "
      ]
     },
     "metadata": {},
     "output_type": "display_data"
    }
   ],
   "source": [
    "paste(\"Number of rows: \", nrow(df))\n",
    "summary(df)"
   ]
  },
  {
   "cell_type": "markdown",
   "id": "bb703b70-c9ba-447c-946a-c6ca9336b8e9",
   "metadata": {},
   "source": [
    "Zbylo nám 296 záznamů. Každý záznam popisuje, kolik v daném regionu Bulharska žilo lidí s daným věkem a pohlavím začátkem roku 2021.\n",
    "\n",
    "Dále si ještě data rozdělíme na jednotlivé NUTS skupiny, aby se nám nemíchaly regiony různých velikostí."
   ]
  },
  {
   "cell_type": "code",
   "execution_count": 11,
   "id": "ca6e9d6d-47f6-4c68-b8ab-bca6865894bb",
   "metadata": {
    "vscode": {
     "languageId": "r"
    }
   },
   "outputs": [],
   "source": [
    "nuts3 = subset(df, nchar(geo) == 5)\n",
    "nuts2 = subset(df, nchar(geo) == 4)\n",
    "nuts1 = subset(df, nchar(geo) == 3)\n",
    "BG = subset(df, nchar(geo) == 2)"
   ]
  },
  {
   "cell_type": "markdown",
   "id": "610859c2-8812-4d2d-a279-a25ce837bdb6",
   "metadata": {},
   "source": [
    "Zobrazíme si základní statistiky pro NUTS3 regiony."
   ]
  },
  {
   "cell_type": "code",
   "execution_count": 12,
   "id": "265a3b2f-be73-4f52-9976-761b13055da6",
   "metadata": {
    "vscode": {
     "languageId": "r"
    }
   },
   "outputs": [
    {
     "data": {
      "text/html": [
       "<table class=\"dataframe\">\n",
       "<caption>A data.frame: 5 × 11</caption>\n",
       "<thead>\n",
       "\t<tr><th scope=col>Variable</th><th scope=col>Mean</th><th scope=col>Sd</th><th scope=col>Min</th><th scope=col>Pctile[25]</th><th scope=col>Median</th><th scope=col>Pctile[75]</th><th scope=col>Max</th><th scope=col>IQR</th><th scope=col>Skewness</th><th scope=col>Kurtosis-3</th></tr>\n",
       "\t<tr><th scope=col>&lt;chr&gt;</th><th scope=col>&lt;chr&gt;</th><th scope=col>&lt;chr&gt;</th><th scope=col>&lt;chr&gt;</th><th scope=col>&lt;chr&gt;</th><th scope=col>&lt;chr&gt;</th><th scope=col>&lt;chr&gt;</th><th scope=col>&lt;chr&gt;</th><th scope=col>&lt;chr&gt;</th><th scope=col>&lt;chr&gt;</th><th scope=col>&lt;chr&gt;</th></tr>\n",
       "</thead>\n",
       "<tbody>\n",
       "\t<tr><td>sex: F    </td><td>        </td><td>          </td><td>     </td><td>        </td><td>       </td><td>      </td><td>      </td><td>        </td><td>     </td><td>      </td></tr>\n",
       "\t<tr><td>population</td><td>127386.9</td><td>127818.349</td><td>41725</td><td>59821.25</td><td>87939  </td><td>123031</td><td>681214</td><td>63209.75</td><td>3.219</td><td>10.945</td></tr>\n",
       "\t<tr><td>          </td><td>        </td><td>          </td><td>     </td><td>        </td><td>       </td><td>      </td><td>      </td><td>        </td><td>     </td><td>      </td></tr>\n",
       "\t<tr><td>sex: M    </td><td>        </td><td>          </td><td>     </td><td>        </td><td>       </td><td>      </td><td>      </td><td>        </td><td>     </td><td>      </td></tr>\n",
       "\t<tr><td>population</td><td>119632.7</td><td>117536.39 </td><td>39487</td><td>56895.5 </td><td>83100.5</td><td>118651</td><td>627198</td><td>61755.5 </td><td>3.185</td><td>10.762</td></tr>\n",
       "</tbody>\n",
       "</table>\n"
      ],
      "text/latex": [
       "A data.frame: 5 × 11\n",
       "\\begin{tabular}{lllllllllll}\n",
       " Variable & Mean & Sd & Min & Pctile{[}25{]} & Median & Pctile{[}75{]} & Max & IQR & Skewness & Kurtosis-3\\\\\n",
       " <chr> & <chr> & <chr> & <chr> & <chr> & <chr> & <chr> & <chr> & <chr> & <chr> & <chr>\\\\\n",
       "\\hline\n",
       "\t sex: F     &          &            &       &          &         &        &        &          &       &       \\\\\n",
       "\t population & 127386.9 & 127818.349 & 41725 & 59821.25 & 87939   & 123031 & 681214 & 63209.75 & 3.219 & 10.945\\\\\n",
       "\t            &          &            &       &          &         &        &        &          &       &       \\\\\n",
       "\t sex: M     &          &            &       &          &         &        &        &          &       &       \\\\\n",
       "\t population & 119632.7 & 117536.39  & 39487 & 56895.5  & 83100.5 & 118651 & 627198 & 61755.5  & 3.185 & 10.762\\\\\n",
       "\\end{tabular}\n"
      ],
      "text/markdown": [
       "\n",
       "A data.frame: 5 × 11\n",
       "\n",
       "| Variable &lt;chr&gt; | Mean &lt;chr&gt; | Sd &lt;chr&gt; | Min &lt;chr&gt; | Pctile[25] &lt;chr&gt; | Median &lt;chr&gt; | Pctile[75] &lt;chr&gt; | Max &lt;chr&gt; | IQR &lt;chr&gt; | Skewness &lt;chr&gt; | Kurtosis-3 &lt;chr&gt; |\n",
       "|---|---|---|---|---|---|---|---|---|---|---|\n",
       "| sex: F     | <!----> | <!----> | <!----> | <!----> | <!----> | <!----> | <!----> | <!----> | <!----> | <!----> |\n",
       "| population | 127386.9 | 127818.349 | 41725 | 59821.25 | 87939   | 123031 | 681214 | 63209.75 | 3.219 | 10.945 |\n",
       "| <!----> | <!----> | <!----> | <!----> | <!----> | <!----> | <!----> | <!----> | <!----> | <!----> | <!----> |\n",
       "| sex: M     | <!----> | <!----> | <!----> | <!----> | <!----> | <!----> | <!----> | <!----> | <!----> | <!----> |\n",
       "| population | 119632.7 | 117536.39  | 39487 | 56895.5  | 83100.5 | 118651 | 627198 | 61755.5  | 3.185 | 10.762 |\n",
       "\n"
      ],
      "text/plain": [
       "  Variable   Mean     Sd         Min   Pctile[25] Median  Pctile[75] Max   \n",
       "1 sex: F                                                                   \n",
       "2 population 127386.9 127818.349 41725 59821.25   87939   123031     681214\n",
       "3                                                                          \n",
       "4 sex: M                                                                   \n",
       "5 population 119632.7 117536.39  39487 56895.5    83100.5 118651     627198\n",
       "  IQR      Skewness Kurtosis-3\n",
       "1                             \n",
       "2 63209.75 3.219    10.945    \n",
       "3                             \n",
       "4                             \n",
       "5 61755.5  3.185    10.762    "
      ]
     },
     "metadata": {},
     "output_type": "display_data"
    }
   ],
   "source": [
    "summ <- c('mean(x)', 'sd(x)', 'min(x)', 'pctile(x)[25]', 'median(x)', 'pctile(x)[75]', \n",
    "          'max(x)', 'IQR(x)', 'skewness(x)', 'kurtosis(x)-3')\n",
    "sumtable(subset(nuts3, age == \"TOTAL\", select=c(\"population\",\"sex\")), \n",
    "         out=\"return\", summ=summ, group=\"sex\", group.long=T, factor.numeric=TRUE)"
   ]
  },
  {
   "cell_type": "markdown",
   "id": "6b6da2fd-ed6c-46ad-8ede-c4cf7e7eb8ec",
   "metadata": {},
   "source": [
    "Z dat to vypadá, že žen je o něco víc. Průměrná populace žen napříč NUTS3 regiony je 127 tisíc, kdežto u mužů pouze 119 tisíc. Stejně tak minimum, maximum i medián mají ženy vyšší. Mezikvartilové rozpětí je u žen od 59 821 do 123 031 a u mužů od 56 895 do 118 651.\n",
    "Medián a průměr se poměrně razantně liší - je pravděpodobné, že v datech existuje pár regionů s obrovskou populací, které táhnou průměr směrem nahoru.\n",
    "\n",
    "Šikmost je u obou pohlaví okolo 3.2, z toho plyne, že naše rozdělení je asymetrické a je sešikmené směrem doleva - majorita hodnot leží pod průměrem - opět kvůli tomu, že většina regionů má populaci nižší a existuje malé množství hustě osídlených oblastí.\n",
    "Špičatost u obou rozdělení vyšla téměř 11. Z toho plyne, že v rozdělení bude existovat místo, kde je koncetrováno veliké množství hodnot (populací jednotlivých regionů) v porovnání s normálním rozdělením.\n",
    "\n"
   ]
  },
  {
   "cell_type": "code",
   "execution_count": 13,
   "id": "15e89f5c-008e-4244-8d1d-fcb6361f0d55",
   "metadata": {
    "vscode": {
     "languageId": "r"
    }
   },
   "outputs": [
    {
     "data": {
      "image/png": "[encoded data removed]",
      "text/plain": [
       "plot without title"
      ]
     },
     "metadata": {
      "image/png": {
       "height": 420,
       "width": 900
      }
     },
     "output_type": "display_data"
    }
   ],
   "source": [
    "nuts3_total = subset(nuts3, age == \"TOTAL\")\n",
    "options(repr.plot.width = 15, repr.plot.height = 7)\n",
    "p = ggplot(nuts3_total, aes(x=population, y=sex, fill=sex)) +\n",
    "        geom_boxplot(outlier.color=\"red\", show.legend=F, outlier.size = 1) + \n",
    "        scale_x_continuous(labels = scales::number, n.breaks=10)\n",
    "plot(p)"
   ]
  },
  {
   "cell_type": "markdown",
   "id": "f65ae985",
   "metadata": {},
   "source": [
    "Grafy mužů a žen vypadají dost podobně. U obou je pár dost výrazných odlehných hodnot, které jsou pravděpodobně hustě osídlené oblasti - velká města. Kvůli odlehlým hodnotám jsou ale *boxploty* dost malé. Zkusíme proto *boxplot* vykreslit znovu, ale bez odlehlých hodnot."
   ]
  },
  {
   "cell_type": "code",
   "execution_count": 14,
   "id": "46ed1a38-fc8c-461f-97a7-b419a6c13052",
   "metadata": {
    "vscode": {
     "languageId": "r"
    }
   },
   "outputs": [
    {
     "name": "stderr",
     "output_type": "stream",
     "text": [
      "\u001b[1m\u001b[22mScale for \u001b[32mx\u001b[39m is already present.\n",
      "Adding another scale for \u001b[32mx\u001b[39m, which will replace the existing scale.\n",
      "Warning message:\n",
      "\"\u001b[1m\u001b[22mRemoved 7 rows containing non-finite values (`stat_boxplot()`).\"\n"
     ]
    },
    {
     "data": {
      "image/png": "[encoded data removed]",
      "text/plain": [
       "plot without title"
      ]
     },
     "metadata": {
      "image/png": {
       "height": 420,
       "width": 900
      }
     },
     "output_type": "display_data"
    }
   ],
   "source": [
    "p %+% xlim(0, 200000)"
   ]
  },
  {
   "cell_type": "markdown",
   "id": "9fd89ccc-7a44-4cb2-ab1b-482b946c19a4",
   "metadata": {},
   "source": [
    "Tady už je rozdíl mezi muži a ženami vidět trochu lépe. Vypadá to, že žen v regionech Bulharska bývá o něco více než mužů.\n",
    "\n",
    "Abychom více poruzmněli rozdělení dat, zobrazíme si také *violin plot*"
   ]
  },
  {
   "cell_type": "code",
   "execution_count": 15,
   "id": "585ba864-5a29-4caa-9493-f536e409ec3e",
   "metadata": {
    "vscode": {
     "languageId": "r"
    }
   },
   "outputs": [
    {
     "data": {
      "image/png": "[encoded data removed]",
      "text/plain": [
       "plot without title"
      ]
     },
     "metadata": {
      "image/png": {
       "height": 420,
       "width": 900
      }
     },
     "output_type": "display_data"
    }
   ],
   "source": [
    "p = ggplot(nuts3_total, aes(x=population, y=sex, fill=sex)) +\n",
    "        geom_violin(show.legend=F) + \n",
    "        scale_x_continuous(labels = scales::number, n.breaks=10)\n",
    "plot(p)"
   ]
  },
  {
   "cell_type": "markdown",
   "id": "d834d5e7-69a8-4466-803e-63650889f915",
   "metadata": {},
   "source": [
    "Distribuce vypadají u mužů i žen opět podobně. Nejčastější velikost populace regionu je někde okolo 70 tisíc a poté četnost s rostoucími čísly klesá. Opět je vidět pár odlehlých hodnot a je vidět lehčí převaha žen, co se týče velikosti populace"
   ]
  },
  {
   "cell_type": "markdown",
   "id": "4a5a99a5-ea4e-4322-a7a0-10ebf6eb7f75",
   "metadata": {
    "tags": []
   },
   "source": [
    "Mohli bychom si zkusit porovnat věkové skupiny mužů a žen, jestli mezi nimi nejsou zajímavé rozdíly."
   ]
  },
  {
   "cell_type": "code",
   "execution_count": 16,
   "id": "d9bd80c0-65e2-4df8-be38-d7830fd838a4",
   "metadata": {
    "tags": [],
    "vscode": {
     "languageId": "r"
    }
   },
   "outputs": [
    {
     "data": {
      "image/png": "[encoded data removed]",
      "text/plain": [
       "plot without title"
      ]
     },
     "metadata": {
      "image/png": {
       "height": 420,
       "width": 900
      }
     },
     "output_type": "display_data"
    }
   ],
   "source": [
    "pF = ggplot(subset(nuts3, sex==\"F\" & age!=\"TOTAL\"), aes(x=population, y=age, fill=age)) +\n",
    "        geom_violin(show.legend=F) + \n",
    "        scale_x_continuous(labels = scales::number, n.breaks=10) +\n",
    "        ggtitle(\"Comparison of female age groups\")\n",
    "pM = ggplot(subset(nuts3, sex==\"M\" & age!=\"TOTAL\"), aes(x=population, y=age, fill=age)) +\n",
    "        geom_violin(show.legend=F) + \n",
    "        scale_x_continuous(labels = scales::number, n.breaks=10) +\n",
    "        ggtitle(\"Comparison of male age groups\")\n",
    "pg = plot_grid(pF, pM, nrow=2)\n",
    "plot(pg)"
   ]
  },
  {
   "cell_type": "markdown",
   "id": "b0439fd2-1fee-4108-b903-6f074f7f9e45",
   "metadata": {},
   "source": [
    "Co se týče velikosti populace, ženy mají převahu zejména ve skupině 65+, tato složka populace je v jednotlivých regionech vyšší, než stejná skupina opačného pohlaví. Je to vidět na rozděleních obou těchto skupin; rozdělení žen 65+ je více vpravo a je více roztažené směrem do prava. Pojdmě se kouknout pomocí funkce `sumtable` na základní statistické rozdíly mezi muži a ženy v této kategorii."
   ]
  },
  {
   "cell_type": "code",
   "execution_count": 30,
   "id": "63498aa2",
   "metadata": {
    "vscode": {
     "languageId": "r"
    }
   },
   "outputs": [
    {
     "data": {
      "text/html": [
       "<table class=\"dataframe\">\n",
       "<caption>A data.frame: 5 × 11</caption>\n",
       "<thead>\n",
       "\t<tr><th scope=col>Variable</th><th scope=col>Mean</th><th scope=col>Sd</th><th scope=col>Min</th><th scope=col>Pctile[25]</th><th scope=col>Median</th><th scope=col>Pctile[75]</th><th scope=col>Max</th><th scope=col>IQR</th><th scope=col>Skewness</th><th scope=col>Kurtosis-3</th></tr>\n",
       "\t<tr><th scope=col>&lt;chr&gt;</th><th scope=col>&lt;chr&gt;</th><th scope=col>&lt;chr&gt;</th><th scope=col>&lt;chr&gt;</th><th scope=col>&lt;chr&gt;</th><th scope=col>&lt;chr&gt;</th><th scope=col>&lt;chr&gt;</th><th scope=col>&lt;chr&gt;</th><th scope=col>&lt;chr&gt;</th><th scope=col>&lt;chr&gt;</th><th scope=col>&lt;chr&gt;</th></tr>\n",
       "</thead>\n",
       "<tbody>\n",
       "\t<tr><td>sex: F    </td><td>       </td><td>         </td><td>     </td><td>        </td><td>       </td><td>        </td><td>      </td><td>        </td><td>     </td><td>     </td></tr>\n",
       "\t<tr><td>population</td><td>32259.4</td><td>26627.616</td><td>14409</td><td>18499.75</td><td>22812.5</td><td>33623.25</td><td>143227</td><td>15123.5 </td><td>2.96 </td><td>9.248</td></tr>\n",
       "\t<tr><td>          </td><td>       </td><td>         </td><td>     </td><td>        </td><td>       </td><td>        </td><td>      </td><td>        </td><td>     </td><td>     </td></tr>\n",
       "\t<tr><td>sex: M    </td><td>       </td><td>         </td><td>     </td><td>        </td><td>       </td><td>        </td><td>      </td><td>        </td><td>     </td><td>     </td></tr>\n",
       "\t<tr><td>population</td><td>21456.6</td><td>16352.804</td><td>9830 </td><td>12246.25</td><td>15430.5</td><td>23426.5 </td><td>87597 </td><td>11180.25</td><td>2.748</td><td>8.033</td></tr>\n",
       "</tbody>\n",
       "</table>\n"
      ],
      "text/latex": [
       "A data.frame: 5 × 11\n",
       "\\begin{tabular}{lllllllllll}\n",
       " Variable & Mean & Sd & Min & Pctile{[}25{]} & Median & Pctile{[}75{]} & Max & IQR & Skewness & Kurtosis-3\\\\\n",
       " <chr> & <chr> & <chr> & <chr> & <chr> & <chr> & <chr> & <chr> & <chr> & <chr> & <chr>\\\\\n",
       "\\hline\n",
       "\t sex: F     &         &           &       &          &         &          &        &          &       &      \\\\\n",
       "\t population & 32259.4 & 26627.616 & 14409 & 18499.75 & 22812.5 & 33623.25 & 143227 & 15123.5  & 2.96  & 9.248\\\\\n",
       "\t            &         &           &       &          &         &          &        &          &       &      \\\\\n",
       "\t sex: M     &         &           &       &          &         &          &        &          &       &      \\\\\n",
       "\t population & 21456.6 & 16352.804 & 9830  & 12246.25 & 15430.5 & 23426.5  & 87597  & 11180.25 & 2.748 & 8.033\\\\\n",
       "\\end{tabular}\n"
      ],
      "text/markdown": [
       "\n",
       "A data.frame: 5 × 11\n",
       "\n",
       "| Variable &lt;chr&gt; | Mean &lt;chr&gt; | Sd &lt;chr&gt; | Min &lt;chr&gt; | Pctile[25] &lt;chr&gt; | Median &lt;chr&gt; | Pctile[75] &lt;chr&gt; | Max &lt;chr&gt; | IQR &lt;chr&gt; | Skewness &lt;chr&gt; | Kurtosis-3 &lt;chr&gt; |\n",
       "|---|---|---|---|---|---|---|---|---|---|---|\n",
       "| sex: F     | <!----> | <!----> | <!----> | <!----> | <!----> | <!----> | <!----> | <!----> | <!----> | <!----> |\n",
       "| population | 32259.4 | 26627.616 | 14409 | 18499.75 | 22812.5 | 33623.25 | 143227 | 15123.5  | 2.96  | 9.248 |\n",
       "| <!----> | <!----> | <!----> | <!----> | <!----> | <!----> | <!----> | <!----> | <!----> | <!----> | <!----> |\n",
       "| sex: M     | <!----> | <!----> | <!----> | <!----> | <!----> | <!----> | <!----> | <!----> | <!----> | <!----> |\n",
       "| population | 21456.6 | 16352.804 | 9830  | 12246.25 | 15430.5 | 23426.5  | 87597  | 11180.25 | 2.748 | 8.033 |\n",
       "\n"
      ],
      "text/plain": [
       "  Variable   Mean    Sd        Min   Pctile[25] Median  Pctile[75] Max   \n",
       "1 sex: F                                                                 \n",
       "2 population 32259.4 26627.616 14409 18499.75   22812.5 33623.25   143227\n",
       "3                                                                        \n",
       "4 sex: M                                                                 \n",
       "5 population 21456.6 16352.804 9830  12246.25   15430.5 23426.5    87597 \n",
       "  IQR      Skewness Kurtosis-3\n",
       "1                             \n",
       "2 15123.5  2.96     9.248     \n",
       "3                             \n",
       "4                             \n",
       "5 11180.25 2.748    8.033     "
      ]
     },
     "metadata": {},
     "output_type": "display_data"
    }
   ],
   "source": [
    "sumtable(subset(nuts3, age == \"Y_GE65\", select=c(\"population\",\"sex\")), \n",
    "         out=\"return\", summ=summ, group=\"sex\", group.long=T, factor.numeric=TRUE)"
   ]
  },
  {
   "cell_type": "markdown",
   "id": "ea96a6da",
   "metadata": {},
   "source": [
    "Můžeme tu například vidět, že data žen v kategorii 65+ jsou více rozptýlená a že hodnota průměru je vyší."
   ]
  },
  {
   "cell_type": "markdown",
   "id": "2d5e016a",
   "metadata": {},
   "source": [
    "Ve skupině 15-64 je jeden velmi výrazný outlier, kde má tato skupina ekonomicky aktivních obyvatel asi největší převahu. Zjistíme si, co to je za region. "
   ]
  },
  {
   "cell_type": "code",
   "execution_count": 18,
   "id": "d9cd659c-ea01-4ba3-8fd3-7654e5c0f958",
   "metadata": {
    "vscode": {
     "languageId": "r"
    }
   },
   "outputs": [
    {
     "data": {
      "text/html": [
       "<table class=\"dataframe\">\n",
       "<caption>A tibble: 1 × 4</caption>\n",
       "<thead>\n",
       "\t<tr><th scope=col>sex</th><th scope=col>age</th><th scope=col>geo</th><th scope=col>population</th></tr>\n",
       "\t<tr><th scope=col>&lt;fct&gt;</th><th scope=col>&lt;fct&gt;</th><th scope=col>&lt;chr&gt;</th><th scope=col>&lt;dbl&gt;</th></tr>\n",
       "</thead>\n",
       "<tbody>\n",
       "\t<tr><td>F</td><td>Y15-64</td><td>BG411</td><td>442509</td></tr>\n",
       "</tbody>\n",
       "</table>\n"
      ],
      "text/latex": [
       "A tibble: 1 × 4\n",
       "\\begin{tabular}{llll}\n",
       " sex & age & geo & population\\\\\n",
       " <fct> & <fct> & <chr> & <dbl>\\\\\n",
       "\\hline\n",
       "\t F & Y15-64 & BG411 & 442509\\\\\n",
       "\\end{tabular}\n"
      ],
      "text/markdown": [
       "\n",
       "A tibble: 1 × 4\n",
       "\n",
       "| sex &lt;fct&gt; | age &lt;fct&gt; | geo &lt;chr&gt; | population &lt;dbl&gt; |\n",
       "|---|---|---|---|\n",
       "| F | Y15-64 | BG411 | 442509 |\n",
       "\n"
      ],
      "text/plain": [
       "  sex age    geo   population\n",
       "1 F   Y15-64 BG411 442509    "
      ]
     },
     "metadata": {},
     "output_type": "display_data"
    },
    {
     "data": {
      "text/html": [
       "<table class=\"dataframe\">\n",
       "<caption>A tibble: 1 × 4</caption>\n",
       "<thead>\n",
       "\t<tr><th scope=col>sex</th><th scope=col>age</th><th scope=col>geo</th><th scope=col>population</th></tr>\n",
       "\t<tr><th scope=col>&lt;fct&gt;</th><th scope=col>&lt;fct&gt;</th><th scope=col>&lt;chr&gt;</th><th scope=col>&lt;dbl&gt;</th></tr>\n",
       "</thead>\n",
       "<tbody>\n",
       "\t<tr><td>M</td><td>Y15-64</td><td>BG411</td><td>438529</td></tr>\n",
       "</tbody>\n",
       "</table>\n"
      ],
      "text/latex": [
       "A tibble: 1 × 4\n",
       "\\begin{tabular}{llll}\n",
       " sex & age & geo & population\\\\\n",
       " <fct> & <fct> & <chr> & <dbl>\\\\\n",
       "\\hline\n",
       "\t M & Y15-64 & BG411 & 438529\\\\\n",
       "\\end{tabular}\n"
      ],
      "text/markdown": [
       "\n",
       "A tibble: 1 × 4\n",
       "\n",
       "| sex &lt;fct&gt; | age &lt;fct&gt; | geo &lt;chr&gt; | population &lt;dbl&gt; |\n",
       "|---|---|---|---|\n",
       "| M | Y15-64 | BG411 | 438529 |\n",
       "\n"
      ],
      "text/plain": [
       "  sex age    geo   population\n",
       "1 M   Y15-64 BG411 438529    "
      ]
     },
     "metadata": {},
     "output_type": "display_data"
    }
   ],
   "source": [
    "nuts3_Y15_64_F = nuts3[nuts3$age == 'Y15-64' & nuts3$sex=='F', ]\n",
    "nuts3_Y15_64_F[which.max(nuts3_Y15_64_F$population),]\n",
    "nuts3_Y15_64_M = nuts3[nuts3$age == 'Y15-64' & nuts3$sex=='M', ]\n",
    "nuts3_Y15_64_M[which.max(nuts3_Y15_64_M$population),]"
   ]
  },
  {
   "cell_type": "markdown",
   "id": "5715db0b-0b8d-419f-8112-a8c8706315b4",
   "metadata": {},
   "source": [
    "V obou případech to je region BG411, který odpovídá hlavnímu městu Bulharska - Sofii."
   ]
  },
  {
   "cell_type": "markdown",
   "id": "28ee5d54-dd12-4f80-a52d-e91170074df2",
   "metadata": {},
   "source": [
    "### Úloha 2"
   ]
  },
  {
   "cell_type": "markdown",
   "id": "2b3d507f-18eb-481f-a455-9be6a9b769e2",
   "metadata": {},
   "source": [
    "Z průzkumu dat výše máme podezření, že žen bývá v regionech v Bulharsku více než mužů. Otestujeme tedy, jestli se střední hodnoty počtu mužů a žen rovnají. K tomu bychom chtěli použít dvouvýběrový t-test. Tento test ale předpokládá, že jednotlivé výběry jsou z normálního rozdělení a jejich rozptyly jsou stejné. Nejdříve tedy otestujeme hypotézu, jestli naše data pocházejí z normálního rozdělení. K tomu použijeme Shapirův-Wilkův test:\n",
    "\n",
    "- $H_0$: počet žen v NUTS3 regionech Bulharska je výběr z normálního rozdělení\n",
    "- $H_A$: počet žen v NUTS3 regionech Bulharska není výběr z normálního rozdělení"
   ]
  },
  {
   "cell_type": "code",
   "execution_count": 19,
   "id": "785c7d7b-a81e-448c-b8ba-1fe5c97eab0b",
   "metadata": {
    "vscode": {
     "languageId": "r"
    }
   },
   "outputs": [
    {
     "data": {
      "text/plain": [
       "\n",
       "\tShapiro-Wilk normality test\n",
       "\n",
       "data:  nuts3_total_females$population\n",
       "W = 0.5664, p-value < 2.2e-16\n"
      ]
     },
     "metadata": {},
     "output_type": "display_data"
    }
   ],
   "source": [
    "nuts3_total_females = nuts3[nuts3$sex == 'F', ]\n",
    "nuts3_total_males = nuts3[nuts3$sex == 'M', ]\n",
    "\n",
    "shapiro.test(nuts3_total_females$population)"
   ]
  },
  {
   "cell_type": "markdown",
   "id": "499e2706-c3a8-4a02-a143-8da9211adfcf",
   "metadata": {},
   "source": [
    "- $H_0$: počet mužů v NUTS3 regionech Bulharska je výběr z normálního rozdělení\n",
    "- $H_A$: počet mužů v NUTS3 regionech Bulharska není výběr z normálního rozdělení"
   ]
  },
  {
   "cell_type": "code",
   "execution_count": 20,
   "id": "7bc28e00-bd9c-48c7-99f2-f25bc67eb285",
   "metadata": {
    "vscode": {
     "languageId": "r"
    }
   },
   "outputs": [
    {
     "data": {
      "text/plain": [
       "\n",
       "\tShapiro-Wilk normality test\n",
       "\n",
       "data:  nuts3_total_males$population\n",
       "W = 0.57482, p-value < 2.2e-16\n"
      ]
     },
     "metadata": {},
     "output_type": "display_data"
    }
   ],
   "source": [
    "shapiro.test(nuts3_total_males$population)"
   ]
  },
  {
   "cell_type": "markdown",
   "id": "7141c982-15a1-477d-baaa-9b4eabf9d829",
   "metadata": {},
   "source": [
    "U obou pohlaví nám vychází velmi malá $p$ hodnota a proto obě nulové hypotézy zamítame ve prospěch alternativ. Znamená to, že populace mužů a žen nejspíše nepochází z normálního rozdělení a proto nemůžeme použít dvouvýběrový t-test.\n",
    "\n",
    "Pro lepší znázornění distribuce si zobrazíme i Q-Q plot."
   ]
  },
  {
   "cell_type": "code",
   "execution_count": 21,
   "id": "441117e9-9a1d-47ef-abf9-c9a5f9f879bf",
   "metadata": {
    "vscode": {
     "languageId": "r"
    }
   },
   "outputs": [
    {
     "data": {
      "image/png": "[encoded data removed]",
      "text/plain": [
       "plot without title"
      ]
     },
     "metadata": {
      "image/png": {
       "height": 420,
       "width": 900
      }
     },
     "output_type": "display_data"
    }
   ],
   "source": [
    "qq_f = ggplot(nuts3_total_females, aes(sample=population)) +\n",
    "    stat_qq(distribution=qnorm) +\n",
    "    stat_qq_line(distribution=qnorm, col='red') +\n",
    "    scale_y_continuous(labels = scales::number, n.breaks=10) +\n",
    "    labs(title = \"Females\", y = \"population\")\n",
    "qq_m = ggplot(nuts3_total_males, aes(sample=population)) +\n",
    "    stat_qq(distribution=qnorm) +\n",
    "    stat_qq_line(distribution=qnorm, col='red') +\n",
    "    scale_y_continuous(labels = scales::number, n.breaks=10) +\n",
    "    labs(title = \"Males\", y = \"population\")\n",
    "plot_grid(qq_f, qq_m)"
   ]
  },
  {
   "cell_type": "markdown",
   "id": "8dd7a6f2-6b57-4047-bedd-a8d85a33f7ec",
   "metadata": {},
   "source": [
    "I z Q-Q plotů je vidět, že kvantily našich výběrů teoretickým kvantilům normálního rozdělení neodpovídají a s rostoucími hodnotami se odchylka pouze zvyšuje. Naše data tedy pravděpodobně z normálního rozdělení opravdu nejsou.\n",
    "\n",
    "Otestujeme si alespoň, jestli jsou počty mužů a žen ze stejného rozdělení. K tomu využijeme Mannův-Whitneyův U test. Předpokládáme, že počet mužů v regionu pochází z nějakého spojitého rozdělení $F$ a počet žen z nějakého spojitého rozdělení $G$. Potom stanovíme následující hypotézy:\n",
    "- $H_0$: $F=G$\n",
    "- $H_A$: $F\\ne G$"
   ]
  },
  {
   "cell_type": "code",
   "execution_count": 22,
   "id": "fdae7c7b-f118-47c2-9176-546153429439",
   "metadata": {
    "vscode": {
     "languageId": "r"
    }
   },
   "outputs": [
    {
     "data": {
      "text/plain": [
       "\n",
       "\tWilcoxon rank sum exact test\n",
       "\n",
       "data:  population by sex\n",
       "W = 430, p-value = 0.5418\n",
       "alternative hypothesis: true location shift is not equal to 0\n"
      ]
     },
     "metadata": {},
     "output_type": "display_data"
    }
   ],
   "source": [
    "wilcox.test(population ~ sex, data=nuts3_total)"
   ]
  },
  {
   "cell_type": "markdown",
   "id": "845de8e0-7fdf-4f71-b753-69cc20252f3b",
   "metadata": {},
   "source": [
    "Nulovou hypotézu nezamítáme. Tedy nezamítáme, že počty mužů a žen mohou být ze stejného rozdělení."
   ]
  },
  {
   "cell_type": "markdown",
   "id": "68c3757a-5a41-4761-84ba-7faded762e12",
   "metadata": {},
   "source": [
    "Dále bychom chtěli otestovat, zda-li mezi počty příslušníků skupiny obyvatel schopné plodit potomky a dětí v jednotlivých regionech neexistuje vztah - populace plodné skupiny obyvatel by mohla mít vliv na to, jak veliká je populace dětí. Použijeme Spearmanův korelační koeficient, jelikož naše rozdělení není normální.\n",
    "\n",
    "- $H_0: \\rho_S = 0$\n",
    "- $H_A: \\rho_S \\ne 0$"
   ]
  },
  {
   "cell_type": "code",
   "execution_count": 23,
   "id": "30ee3e8a-a9a7-4a17-8356-d824323509ef",
   "metadata": {
    "vscode": {
     "languageId": "r"
    }
   },
   "outputs": [
    {
     "data": {
      "text/plain": [
       "\n",
       "\tSpearman's rank correlation rho\n",
       "\n",
       "data:  nuts3_Y15_64$population and nuts3_Y_LT15$population\n",
       "S = 784, p-value < 2.2e-16\n",
       "alternative hypothesis: true rho is not equal to 0\n",
       "sample estimates:\n",
       "      rho \n",
       "0.9732057 \n"
      ]
     },
     "metadata": {},
     "output_type": "display_data"
    }
   ],
   "source": [
    "nuts3_Y15_64 = nuts3[nuts3$age == 'Y15-64', ]\n",
    "nuts3_Y_LT15 = nuts3[nuts3$age == 'Y_LT15', ]\n",
    "cor.test(nuts3_Y15_64$population, nuts3_Y_LT15$population, method='spearman')"
   ]
  },
  {
   "cell_type": "markdown",
   "id": "69302a15-9806-48b6-b060-01287c13e4d4",
   "metadata": {},
   "source": [
    "Nulovou hypotézu zamítáme ve propěch alternativy, která tvrdí, že populace obou skupin v jednotlivých regionech korelují, korelační koeficient je kladný a blízký k 1, což značí, že mezi populací dětí a dospělých existuje kladný vztah - větší populace dospělých vede k většímu počtu narozených dětí."
   ]
  },
  {
   "cell_type": "markdown",
   "id": "5dd994d8-9e02-440f-aba7-786861799420",
   "metadata": {},
   "source": [
    "Závěrem bychom chtěli zjistit, zda-li jsou muži i ženy stejně rozděleni do věkových skupin. Využijeme Kolmogorovova-Smirnovova dvouvýběrového testu, protože je méně citlivý na posunutí výběrů a na různé odchylky tvaru či rozptylu.\n",
    "\n",
    "Předpokládáme, že výběr mužů i žen pocházejí ze spojitých rozdělení s distribučními funkcemi $F$ a $G$. Testujeme hypotézu\n",
    "\n",
    "- $H_0$: $F=G$\n",
    "- $H_A$: $F\\ne G$\n"
   ]
  },
  {
   "cell_type": "code",
   "execution_count": 24,
   "id": "bf8673ff-108d-4455-8a19-7b91ee9fa99f",
   "metadata": {
    "vscode": {
     "languageId": "r"
    }
   },
   "outputs": [
    {
     "data": {
      "text/plain": [
       "\n",
       "\tExact two-sample Kolmogorov-Smirnov test\n",
       "\n",
       "data:  population by sex\n",
       "D = 0.42857, p-value = 0.01089\n",
       "alternative hypothesis: two-sided\n"
      ]
     },
     "metadata": {},
     "output_type": "display_data"
    },
    {
     "data": {
      "text/plain": [
       "\n",
       "\tExact two-sample Kolmogorov-Smirnov test\n",
       "\n",
       "data:  population by sex\n",
       "D = 0.17857, p-value = 0.7732\n",
       "alternative hypothesis: two-sided\n"
      ]
     },
     "metadata": {},
     "output_type": "display_data"
    },
    {
     "data": {
      "text/plain": [
       "\n",
       "\tExact two-sample Kolmogorov-Smirnov test\n",
       "\n",
       "data:  population by sex\n",
       "D = 0.10714, p-value = 0.998\n",
       "alternative hypothesis: two-sided\n"
      ]
     },
     "metadata": {},
     "output_type": "display_data"
    }
   ],
   "source": [
    "ks.test(population ~ sex, data=nuts3[nuts3$age == 'Y_GE65', ])\n",
    "ks.test(population ~ sex, data=nuts3[nuts3$age == 'Y15-64', ])\n",
    "ks.test(population ~ sex, data=nuts3[nuts3$age == 'Y_LT15', ])"
   ]
  },
  {
   "cell_type": "markdown",
   "id": "047d8e9b-a184-4d00-a1c2-379b848fe26a",
   "metadata": {},
   "source": [
    "U skupin 15- a 15-64 nulovou hypotézu nezamítáme, ale u skupiny 65+ ji zamítáme. Nejspíš platí staré dobré pravidlo, že se ženy dožívají vyššího věku než muži."
   ]
  },
  {
   "cell_type": "markdown",
   "id": "7e491279-b3a7-48d9-a55e-201af3b3bfa6",
   "metadata": {},
   "source": [
    "### Úloha 3"
   ]
  },
  {
   "cell_type": "markdown",
   "id": "7b0edb5e-9efc-48a9-a4e0-b8a15220caf3",
   "metadata": {},
   "source": [
    "Vytvoříme kontingenční tabulku. Použijeme k tomu oblasti NUTS3, populaci a pohlaví. Věk nebudeme omezovat."
   ]
  },
  {
   "cell_type": "code",
   "execution_count": 25,
   "id": "2433fbb0-6eb5-4ac4-92d9-36cc76c6a0b7",
   "metadata": {
    "vscode": {
     "languageId": "r"
    }
   },
   "outputs": [
    {
     "data": {
      "text/html": [
       "<table class=\"dataframe\">\n",
       "<caption>A tibble: 6 × 3</caption>\n",
       "<thead>\n",
       "\t<tr><th scope=col>sex</th><th scope=col>geo</th><th scope=col>population</th></tr>\n",
       "\t<tr><th scope=col>&lt;fct&gt;</th><th scope=col>&lt;chr&gt;</th><th scope=col>&lt;dbl&gt;</th></tr>\n",
       "</thead>\n",
       "<tbody>\n",
       "\t<tr><td>F</td><td>BG311</td><td> 41725</td></tr>\n",
       "\t<tr><td>F</td><td>BG312</td><td> 64229</td></tr>\n",
       "\t<tr><td>F</td><td>BG313</td><td> 80441</td></tr>\n",
       "\t<tr><td>F</td><td>BG314</td><td>120356</td></tr>\n",
       "\t<tr><td>F</td><td>BG315</td><td> 62910</td></tr>\n",
       "\t<tr><td>F</td><td>BG321</td><td>118915</td></tr>\n",
       "</tbody>\n",
       "</table>\n"
      ],
      "text/latex": [
       "A tibble: 6 × 3\n",
       "\\begin{tabular}{lll}\n",
       " sex & geo & population\\\\\n",
       " <fct> & <chr> & <dbl>\\\\\n",
       "\\hline\n",
       "\t F & BG311 &  41725\\\\\n",
       "\t F & BG312 &  64229\\\\\n",
       "\t F & BG313 &  80441\\\\\n",
       "\t F & BG314 & 120356\\\\\n",
       "\t F & BG315 &  62910\\\\\n",
       "\t F & BG321 & 118915\\\\\n",
       "\\end{tabular}\n"
      ],
      "text/markdown": [
       "\n",
       "A tibble: 6 × 3\n",
       "\n",
       "| sex &lt;fct&gt; | geo &lt;chr&gt; | population &lt;dbl&gt; |\n",
       "|---|---|---|\n",
       "| F | BG311 |  41725 |\n",
       "| F | BG312 |  64229 |\n",
       "| F | BG313 |  80441 |\n",
       "| F | BG314 | 120356 |\n",
       "| F | BG315 |  62910 |\n",
       "| F | BG321 | 118915 |\n",
       "\n"
      ],
      "text/plain": [
       "  sex geo   population\n",
       "1 F   BG311  41725    \n",
       "2 F   BG312  64229    \n",
       "3 F   BG313  80441    \n",
       "4 F   BG314 120356    \n",
       "5 F   BG315  62910    \n",
       "6 F   BG321 118915    "
      ]
     },
     "metadata": {},
     "output_type": "display_data"
    }
   ],
   "source": [
    "nuts3_total[\"age\"] = NULL\n",
    "head(nuts3_total)"
   ]
  },
  {
   "cell_type": "code",
   "execution_count": 26,
   "id": "a1257501-59f9-4416-bb96-a93043b63eca",
   "metadata": {
    "vscode": {
     "languageId": "r"
    }
   },
   "outputs": [
    {
     "data": {
      "text/html": [
       "<table class=\"dataframe\">\n",
       "<caption>A table: 3 × 29 of type dbl</caption>\n",
       "<thead>\n",
       "\t<tr><th></th><th scope=col>BG311</th><th scope=col>BG312</th><th scope=col>BG313</th><th scope=col>BG314</th><th scope=col>BG315</th><th scope=col>BG321</th><th scope=col>BG322</th><th scope=col>BG323</th><th scope=col>BG324</th><th scope=col>BG325</th><th scope=col>⋯</th><th scope=col>BG412</th><th scope=col>BG413</th><th scope=col>BG414</th><th scope=col>BG415</th><th scope=col>BG421</th><th scope=col>BG422</th><th scope=col>BG423</th><th scope=col>BG424</th><th scope=col>BG425</th><th scope=col>Sum</th></tr>\n",
       "</thead>\n",
       "<tbody>\n",
       "\t<tr><th scope=row>F</th><td>41725</td><td> 64229</td><td> 80441</td><td>120356</td><td> 62910</td><td>118915</td><td> 54914</td><td>109208</td><td> 56343</td><td> 54803</td><td>⋯</td><td>121215</td><td>154769</td><td> 61876</td><td> 59920</td><td>346547</td><td>114498</td><td>128479</td><td> 52947</td><td> 81351</td><td>3566833</td></tr>\n",
       "\t<tr><th scope=row>M</th><td>39487</td><td> 61166</td><td> 77196</td><td>113082</td><td> 59580</td><td>110803</td><td> 50874</td><td>103521</td><td> 53467</td><td> 52049</td><td>⋯</td><td>117261</td><td>146369</td><td> 58550</td><td> 56699</td><td>319851</td><td>109127</td><td>122821</td><td> 48940</td><td> 79430</td><td>3349715</td></tr>\n",
       "\t<tr><th scope=row>Sum</th><td>81212</td><td>125395</td><td>157637</td><td>233438</td><td>122490</td><td>229718</td><td>105788</td><td>212729</td><td>109810</td><td>106852</td><td>⋯</td><td>238476</td><td>301138</td><td>120426</td><td>116619</td><td>666398</td><td>223625</td><td>251300</td><td>101887</td><td>160781</td><td>6916548</td></tr>\n",
       "</tbody>\n",
       "</table>\n"
      ],
      "text/latex": [
       "A table: 3 × 29 of type dbl\n",
       "\\begin{tabular}{r|lllllllllllllllllllll}\n",
       "  & BG311 & BG312 & BG313 & BG314 & BG315 & BG321 & BG322 & BG323 & BG324 & BG325 & ⋯ & BG412 & BG413 & BG414 & BG415 & BG421 & BG422 & BG423 & BG424 & BG425 & Sum\\\\\n",
       "\\hline\n",
       "\tF & 41725 &  64229 &  80441 & 120356 &  62910 & 118915 &  54914 & 109208 &  56343 &  54803 & ⋯ & 121215 & 154769 &  61876 &  59920 & 346547 & 114498 & 128479 &  52947 &  81351 & 3566833\\\\\n",
       "\tM & 39487 &  61166 &  77196 & 113082 &  59580 & 110803 &  50874 & 103521 &  53467 &  52049 & ⋯ & 117261 & 146369 &  58550 &  56699 & 319851 & 109127 & 122821 &  48940 &  79430 & 3349715\\\\\n",
       "\tSum & 81212 & 125395 & 157637 & 233438 & 122490 & 229718 & 105788 & 212729 & 109810 & 106852 & ⋯ & 238476 & 301138 & 120426 & 116619 & 666398 & 223625 & 251300 & 101887 & 160781 & 6916548\\\\\n",
       "\\end{tabular}\n"
      ],
      "text/markdown": [
       "\n",
       "A table: 3 × 29 of type dbl\n",
       "\n",
       "| <!--/--> | BG311 | BG312 | BG313 | BG314 | BG315 | BG321 | BG322 | BG323 | BG324 | BG325 | ⋯ | BG412 | BG413 | BG414 | BG415 | BG421 | BG422 | BG423 | BG424 | BG425 | Sum |\n",
       "|---|---|---|---|---|---|---|---|---|---|---|---|---|---|---|---|---|---|---|---|---|---|\n",
       "| F | 41725 |  64229 |  80441 | 120356 |  62910 | 118915 |  54914 | 109208 |  56343 |  54803 | ⋯ | 121215 | 154769 |  61876 |  59920 | 346547 | 114498 | 128479 |  52947 |  81351 | 3566833 |\n",
       "| M | 39487 |  61166 |  77196 | 113082 |  59580 | 110803 |  50874 | 103521 |  53467 |  52049 | ⋯ | 117261 | 146369 |  58550 |  56699 | 319851 | 109127 | 122821 |  48940 |  79430 | 3349715 |\n",
       "| Sum | 81212 | 125395 | 157637 | 233438 | 122490 | 229718 | 105788 | 212729 | 109810 | 106852 | ⋯ | 238476 | 301138 | 120426 | 116619 | 666398 | 223625 | 251300 | 101887 | 160781 | 6916548 |\n",
       "\n"
      ],
      "text/plain": [
       "    BG311 BG312  BG313  BG314  BG315  BG321  BG322  BG323  BG324  BG325  ⋯\n",
       "F   41725  64229  80441 120356  62910 118915  54914 109208  56343  54803 ⋯\n",
       "M   39487  61166  77196 113082  59580 110803  50874 103521  53467  52049 ⋯\n",
       "Sum 81212 125395 157637 233438 122490 229718 105788 212729 109810 106852 ⋯\n",
       "    BG412  BG413  BG414  BG415  BG421  BG422  BG423  BG424  BG425  Sum    \n",
       "F   121215 154769  61876  59920 346547 114498 128479  52947  81351 3566833\n",
       "M   117261 146369  58550  56699 319851 109127 122821  48940  79430 3349715\n",
       "Sum 238476 301138 120426 116619 666398 223625 251300 101887 160781 6916548"
      ]
     },
     "metadata": {},
     "output_type": "display_data"
    }
   ],
   "source": [
    "ct = xtabs(formula=population ~ sex + geo, data=nuts3_total)\n",
    "addmargins(ct)"
   ]
  },
  {
   "cell_type": "markdown",
   "id": "be5803fd-c7a6-411f-bf52-4f4a56875f23",
   "metadata": {},
   "source": [
    "Na první pohled je vidět, že žen je více než mužů snad v každém regionu. Podíváme se ještě na matici pravděpodobnosti. Pro lepší čitelnost pravděpodobnosti zaokrouhlíme."
   ]
  },
  {
   "cell_type": "code",
   "execution_count": 27,
   "id": "3c7032b6-3b7a-4bfd-927b-e4813d3f31a0",
   "metadata": {
    "vscode": {
     "languageId": "r"
    }
   },
   "outputs": [
    {
     "data": {
      "text/html": [
       "<table class=\"dataframe\">\n",
       "<caption>A table: 3 × 29 of type dbl</caption>\n",
       "<thead>\n",
       "\t<tr><th></th><th scope=col>BG311</th><th scope=col>BG312</th><th scope=col>BG313</th><th scope=col>BG314</th><th scope=col>BG315</th><th scope=col>BG321</th><th scope=col>BG322</th><th scope=col>BG323</th><th scope=col>BG324</th><th scope=col>BG325</th><th scope=col>⋯</th><th scope=col>BG412</th><th scope=col>BG413</th><th scope=col>BG414</th><th scope=col>BG415</th><th scope=col>BG421</th><th scope=col>BG422</th><th scope=col>BG423</th><th scope=col>BG424</th><th scope=col>BG425</th><th scope=col>Sum</th></tr>\n",
       "</thead>\n",
       "<tbody>\n",
       "\t<tr><th scope=row>F</th><td>0.0060</td><td>0.0093</td><td>0.0116</td><td>0.0174</td><td>0.0091</td><td>0.0172</td><td>0.0079</td><td>0.0158</td><td>0.0081</td><td>0.0079</td><td>⋯</td><td>0.0175</td><td>0.0224</td><td>0.0089</td><td>0.0087</td><td>0.0501</td><td>0.0166</td><td>0.0186</td><td>0.0077</td><td>0.0118</td><td>0.5157</td></tr>\n",
       "\t<tr><th scope=row>M</th><td>0.0057</td><td>0.0088</td><td>0.0112</td><td>0.0163</td><td>0.0086</td><td>0.0160</td><td>0.0074</td><td>0.0150</td><td>0.0077</td><td>0.0075</td><td>⋯</td><td>0.0170</td><td>0.0212</td><td>0.0085</td><td>0.0082</td><td>0.0462</td><td>0.0158</td><td>0.0178</td><td>0.0071</td><td>0.0115</td><td>0.4843</td></tr>\n",
       "\t<tr><th scope=row>Sum</th><td>0.0117</td><td>0.0181</td><td>0.0228</td><td>0.0338</td><td>0.0177</td><td>0.0332</td><td>0.0153</td><td>0.0308</td><td>0.0159</td><td>0.0154</td><td>⋯</td><td>0.0345</td><td>0.0435</td><td>0.0174</td><td>0.0169</td><td>0.0963</td><td>0.0323</td><td>0.0363</td><td>0.0147</td><td>0.0232</td><td>1.0000</td></tr>\n",
       "</tbody>\n",
       "</table>\n"
      ],
      "text/latex": [
       "A table: 3 × 29 of type dbl\n",
       "\\begin{tabular}{r|lllllllllllllllllllll}\n",
       "  & BG311 & BG312 & BG313 & BG314 & BG315 & BG321 & BG322 & BG323 & BG324 & BG325 & ⋯ & BG412 & BG413 & BG414 & BG415 & BG421 & BG422 & BG423 & BG424 & BG425 & Sum\\\\\n",
       "\\hline\n",
       "\tF & 0.0060 & 0.0093 & 0.0116 & 0.0174 & 0.0091 & 0.0172 & 0.0079 & 0.0158 & 0.0081 & 0.0079 & ⋯ & 0.0175 & 0.0224 & 0.0089 & 0.0087 & 0.0501 & 0.0166 & 0.0186 & 0.0077 & 0.0118 & 0.5157\\\\\n",
       "\tM & 0.0057 & 0.0088 & 0.0112 & 0.0163 & 0.0086 & 0.0160 & 0.0074 & 0.0150 & 0.0077 & 0.0075 & ⋯ & 0.0170 & 0.0212 & 0.0085 & 0.0082 & 0.0462 & 0.0158 & 0.0178 & 0.0071 & 0.0115 & 0.4843\\\\\n",
       "\tSum & 0.0117 & 0.0181 & 0.0228 & 0.0338 & 0.0177 & 0.0332 & 0.0153 & 0.0308 & 0.0159 & 0.0154 & ⋯ & 0.0345 & 0.0435 & 0.0174 & 0.0169 & 0.0963 & 0.0323 & 0.0363 & 0.0147 & 0.0232 & 1.0000\\\\\n",
       "\\end{tabular}\n"
      ],
      "text/markdown": [
       "\n",
       "A table: 3 × 29 of type dbl\n",
       "\n",
       "| <!--/--> | BG311 | BG312 | BG313 | BG314 | BG315 | BG321 | BG322 | BG323 | BG324 | BG325 | ⋯ | BG412 | BG413 | BG414 | BG415 | BG421 | BG422 | BG423 | BG424 | BG425 | Sum |\n",
       "|---|---|---|---|---|---|---|---|---|---|---|---|---|---|---|---|---|---|---|---|---|---|\n",
       "| F | 0.0060 | 0.0093 | 0.0116 | 0.0174 | 0.0091 | 0.0172 | 0.0079 | 0.0158 | 0.0081 | 0.0079 | ⋯ | 0.0175 | 0.0224 | 0.0089 | 0.0087 | 0.0501 | 0.0166 | 0.0186 | 0.0077 | 0.0118 | 0.5157 |\n",
       "| M | 0.0057 | 0.0088 | 0.0112 | 0.0163 | 0.0086 | 0.0160 | 0.0074 | 0.0150 | 0.0077 | 0.0075 | ⋯ | 0.0170 | 0.0212 | 0.0085 | 0.0082 | 0.0462 | 0.0158 | 0.0178 | 0.0071 | 0.0115 | 0.4843 |\n",
       "| Sum | 0.0117 | 0.0181 | 0.0228 | 0.0338 | 0.0177 | 0.0332 | 0.0153 | 0.0308 | 0.0159 | 0.0154 | ⋯ | 0.0345 | 0.0435 | 0.0174 | 0.0169 | 0.0963 | 0.0323 | 0.0363 | 0.0147 | 0.0232 | 1.0000 |\n",
       "\n"
      ],
      "text/plain": [
       "    BG311  BG312  BG313  BG314  BG315  BG321  BG322  BG323  BG324  BG325  ⋯\n",
       "F   0.0060 0.0093 0.0116 0.0174 0.0091 0.0172 0.0079 0.0158 0.0081 0.0079 ⋯\n",
       "M   0.0057 0.0088 0.0112 0.0163 0.0086 0.0160 0.0074 0.0150 0.0077 0.0075 ⋯\n",
       "Sum 0.0117 0.0181 0.0228 0.0338 0.0177 0.0332 0.0153 0.0308 0.0159 0.0154 ⋯\n",
       "    BG412  BG413  BG414  BG415  BG421  BG422  BG423  BG424  BG425  Sum   \n",
       "F   0.0175 0.0224 0.0089 0.0087 0.0501 0.0166 0.0186 0.0077 0.0118 0.5157\n",
       "M   0.0170 0.0212 0.0085 0.0082 0.0462 0.0158 0.0178 0.0071 0.0115 0.4843\n",
       "Sum 0.0345 0.0435 0.0174 0.0169 0.0963 0.0323 0.0363 0.0147 0.0232 1.0000"
      ]
     },
     "metadata": {},
     "output_type": "display_data"
    }
   ],
   "source": [
    "prop = addmargins(prop.table(ct))\n",
    "round(prop, 4)"
   ]
  },
  {
   "cell_type": "markdown",
   "id": "d3195d38-e74f-4101-ba07-6e82c4d0bbb7",
   "metadata": {},
   "source": [
    "Z matice pravděpodobnosti je převaha žen vidět ještě lépe."
   ]
  },
  {
   "cell_type": "markdown",
   "id": "a547c97a-1153-4729-bc75-5c41b1a804dc",
   "metadata": {},
   "source": [
    "Provedeme $\\chi^2$ test nezávislosti počtu obyvatel v regionu na pohlaví.\n",
    "- $H_0$: počet obyvatel v regionu nezávisí na pohlaví\n",
    "- $H_A$: neplatí $H_0$"
   ]
  },
  {
   "cell_type": "code",
   "execution_count": 28,
   "id": "39243bcd-c662-420e-ba39-7fe5ef1c9cee",
   "metadata": {
    "vscode": {
     "languageId": "r"
    }
   },
   "outputs": [
    {
     "data": {
      "text/plain": [
       "\n",
       "\tPearson's Chi-squared test\n",
       "\n",
       "data:  ct\n",
       "X-squared = 420.37, df = 27, p-value < 2.2e-16\n"
      ]
     },
     "metadata": {},
     "output_type": "display_data"
    }
   ],
   "source": [
    "test = chisq.test(ct)\n",
    "test"
   ]
  },
  {
   "cell_type": "markdown",
   "id": "91a1c55c-3c14-4b1f-9bbe-719ae5fea6bc",
   "metadata": {},
   "source": [
    "Hodnota *p-value* se blíží 0 a proto zamítáme nulovou hypotézu ve prospěch alternativy. Znamená to, že pohlaví a počet obyvatel v regionu nejsou nezávislé veličiny.\n",
    "\n",
    "Zobrazíme si srovnání tabulky očekávaných hodnot (při nezávislosti rozdělení mužů a žen) a našich původních hodnot."
   ]
  },
  {
   "cell_type": "code",
   "execution_count": 29,
   "id": "9136a28e-4f16-454d-a485-211eb074803c",
   "metadata": {
    "vscode": {
     "languageId": "r"
    }
   },
   "outputs": [
    {
     "data": {
      "text/html": [
       "<table class=\"dataframe\">\n",
       "<caption>A table: 3 × 29 of type dbl</caption>\n",
       "<thead>\n",
       "\t<tr><th></th><th scope=col>BG311</th><th scope=col>BG312</th><th scope=col>BG313</th><th scope=col>BG314</th><th scope=col>BG315</th><th scope=col>BG321</th><th scope=col>BG322</th><th scope=col>BG323</th><th scope=col>BG324</th><th scope=col>BG325</th><th scope=col>⋯</th><th scope=col>BG412</th><th scope=col>BG413</th><th scope=col>BG414</th><th scope=col>BG415</th><th scope=col>BG421</th><th scope=col>BG422</th><th scope=col>BG423</th><th scope=col>BG424</th><th scope=col>BG425</th><th scope=col>Sum</th></tr>\n",
       "</thead>\n",
       "<tbody>\n",
       "\t<tr><th scope=row>F</th><td>-155.6667</td><td>-436.643</td><td>-851.6988</td><td>-26.93696</td><td>-257.5475</td><td> 450.4505</td><td> 359.5995</td><td>-495.3979</td><td>-285.5279</td><td>-300.1005</td><td>⋯</td><td>-1766.011</td><td>-526.5254</td><td>-227.1519</td><td>-219.8989</td><td> 2888.519</td><td>-824.4166</td><td>-1115.291</td><td> 404.3279</td><td>-1563.046</td><td>-4.365575e-11</td></tr>\n",
       "\t<tr><th scope=row>M</th><td> 155.6667</td><td> 436.643</td><td> 851.6988</td><td> 26.93696</td><td> 257.5475</td><td>-450.4505</td><td>-359.5995</td><td> 495.3979</td><td> 285.5279</td><td> 300.1005</td><td>⋯</td><td> 1766.011</td><td> 526.5254</td><td> 227.1519</td><td> 219.8989</td><td>-2888.519</td><td> 824.4166</td><td> 1115.291</td><td>-404.3279</td><td> 1563.046</td><td> 4.365575e-11</td></tr>\n",
       "\t<tr><th scope=row>Sum</th><td>   0.0000</td><td>   0.000</td><td>   0.0000</td><td>  0.00000</td><td>   0.0000</td><td>   0.0000</td><td>   0.0000</td><td>   0.0000</td><td>   0.0000</td><td>   0.0000</td><td>⋯</td><td>    0.000</td><td>   0.0000</td><td>   0.0000</td><td>   0.0000</td><td>    0.000</td><td>   0.0000</td><td>    0.000</td><td>   0.0000</td><td>    0.000</td><td> 0.000000e+00</td></tr>\n",
       "</tbody>\n",
       "</table>\n"
      ],
      "text/latex": [
       "A table: 3 × 29 of type dbl\n",
       "\\begin{tabular}{r|lllllllllllllllllllll}\n",
       "  & BG311 & BG312 & BG313 & BG314 & BG315 & BG321 & BG322 & BG323 & BG324 & BG325 & ⋯ & BG412 & BG413 & BG414 & BG415 & BG421 & BG422 & BG423 & BG424 & BG425 & Sum\\\\\n",
       "\\hline\n",
       "\tF & -155.6667 & -436.643 & -851.6988 & -26.93696 & -257.5475 &  450.4505 &  359.5995 & -495.3979 & -285.5279 & -300.1005 & ⋯ & -1766.011 & -526.5254 & -227.1519 & -219.8989 &  2888.519 & -824.4166 & -1115.291 &  404.3279 & -1563.046 & -4.365575e-11\\\\\n",
       "\tM &  155.6667 &  436.643 &  851.6988 &  26.93696 &  257.5475 & -450.4505 & -359.5995 &  495.3979 &  285.5279 &  300.1005 & ⋯ &  1766.011 &  526.5254 &  227.1519 &  219.8989 & -2888.519 &  824.4166 &  1115.291 & -404.3279 &  1563.046 &  4.365575e-11\\\\\n",
       "\tSum &    0.0000 &    0.000 &    0.0000 &   0.00000 &    0.0000 &    0.0000 &    0.0000 &    0.0000 &    0.0000 &    0.0000 & ⋯ &     0.000 &    0.0000 &    0.0000 &    0.0000 &     0.000 &    0.0000 &     0.000 &    0.0000 &     0.000 &  0.000000e+00\\\\\n",
       "\\end{tabular}\n"
      ],
      "text/markdown": [
       "\n",
       "A table: 3 × 29 of type dbl\n",
       "\n",
       "| <!--/--> | BG311 | BG312 | BG313 | BG314 | BG315 | BG321 | BG322 | BG323 | BG324 | BG325 | ⋯ | BG412 | BG413 | BG414 | BG415 | BG421 | BG422 | BG423 | BG424 | BG425 | Sum |\n",
       "|---|---|---|---|---|---|---|---|---|---|---|---|---|---|---|---|---|---|---|---|---|---|\n",
       "| F | -155.6667 | -436.643 | -851.6988 | -26.93696 | -257.5475 |  450.4505 |  359.5995 | -495.3979 | -285.5279 | -300.1005 | ⋯ | -1766.011 | -526.5254 | -227.1519 | -219.8989 |  2888.519 | -824.4166 | -1115.291 |  404.3279 | -1563.046 | -4.365575e-11 |\n",
       "| M |  155.6667 |  436.643 |  851.6988 |  26.93696 |  257.5475 | -450.4505 | -359.5995 |  495.3979 |  285.5279 |  300.1005 | ⋯ |  1766.011 |  526.5254 |  227.1519 |  219.8989 | -2888.519 |  824.4166 |  1115.291 | -404.3279 |  1563.046 |  4.365575e-11 |\n",
       "| Sum |    0.0000 |    0.000 |    0.0000 |   0.00000 |    0.0000 |    0.0000 |    0.0000 |    0.0000 |    0.0000 |    0.0000 | ⋯ |     0.000 |    0.0000 |    0.0000 |    0.0000 |     0.000 |    0.0000 |     0.000 |    0.0000 |     0.000 |  0.000000e+00 |\n",
       "\n"
      ],
      "text/plain": [
       "    BG311     BG312    BG313     BG314     BG315     BG321     BG322    \n",
       "F   -155.6667 -436.643 -851.6988 -26.93696 -257.5475  450.4505  359.5995\n",
       "M    155.6667  436.643  851.6988  26.93696  257.5475 -450.4505 -359.5995\n",
       "Sum    0.0000    0.000    0.0000   0.00000    0.0000    0.0000    0.0000\n",
       "    BG323     BG324     BG325     ⋯ BG412     BG413     BG414     BG415    \n",
       "F   -495.3979 -285.5279 -300.1005 ⋯ -1766.011 -526.5254 -227.1519 -219.8989\n",
       "M    495.3979  285.5279  300.1005 ⋯  1766.011  526.5254  227.1519  219.8989\n",
       "Sum    0.0000    0.0000    0.0000 ⋯     0.000    0.0000    0.0000    0.0000\n",
       "    BG421     BG422     BG423     BG424     BG425     Sum          \n",
       "F    2888.519 -824.4166 -1115.291  404.3279 -1563.046 -4.365575e-11\n",
       "M   -2888.519  824.4166  1115.291 -404.3279  1563.046  4.365575e-11\n",
       "Sum     0.000    0.0000     0.000    0.0000     0.000  0.000000e+00"
      ]
     },
     "metadata": {},
     "output_type": "display_data"
    }
   ],
   "source": [
    "addmargins(ct - test$expected)"
   ]
  },
  {
   "cell_type": "markdown",
   "id": "8946f3c7",
   "metadata": {},
   "source": [
    "Je vidět, že se hodnoty v tabulkách dost liší, jak bylo očekávano z výsledku testu."
   ]
  }
 ],
 "metadata": {
  "kernelspec": {
   "display_name": "R",
   "language": "R",
   "name": "ir"
  },
  "language_info": {
   "codemirror_mode": "r",
   "file_extension": ".r",
   "mimetype": "text/x-r-source",
   "name": "R",
   "pygments_lexer": "r",
   "version": "4.1.2"
  }
 },
 "nbformat": 4,
 "nbformat_minor": 5
}
